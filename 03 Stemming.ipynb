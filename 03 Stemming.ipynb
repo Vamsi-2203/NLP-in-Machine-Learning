{
 "cells": [
  {
   "cell_type": "markdown",
   "id": "bc7faded-699d-475d-830e-47d7b380f34b",
   "metadata": {},
   "source": [
    "# Stemming\n",
    "- Stemming is a process in Natural Language Processing (NLP) that reduces words to their base or root form, typically by stripping suffixes.\n",
    "- The goal is to simplify text by unifying different forms of a word (e.g., \"running,\" \"ran,\" \"runner\") into a common stem (e.g., \"run\").\n",
    "- Stemming is particularly useful in tasks like text mining, information retrieval, and search engines, where understanding the core meaning of a word is more important than its grammatical form."
   ]
  },
  {
   "cell_type": "markdown",
   "id": "81736877-bd51-4f92-a2ff-9ce985e4fcbe",
   "metadata": {},
   "source": [
    "### Types of Stemming Algorithms"
   ]
  },
  {
   "cell_type": "markdown",
   "id": "5afe601c-16ff-4d6e-8519-7dc43201dc86",
   "metadata": {},
   "source": [
    "#### Porter Stemmer:\n",
    "- One of the most popular stemming algorithms, developed by Martin Porter in 1980.\n",
    "- It uses a set of rules to iteratively reduce words to their root form."
   ]
  },
  {
   "cell_type": "code",
   "execution_count": 1,
   "id": "2cdb96f0-588a-436c-8010-647187d6fda7",
   "metadata": {},
   "outputs": [
    {
     "name": "stdout",
     "output_type": "stream",
     "text": [
      "run\n",
      "connect\n"
     ]
    }
   ],
   "source": [
    "from nltk.stem import PorterStemmer\n",
    "porter_stemmer = PorterStemmer()\n",
    "print(porter_stemmer.stem(\"running\"))  # Output: run\n",
    "print(porter_stemmer.stem(\"connected\"))  # Output: connect\n"
   ]
  },
  {
   "cell_type": "markdown",
   "id": "4a957d04-4031-4b79-9ce3-c18e70351b08",
   "metadata": {},
   "source": [
    "#### Lancaster Stemmer:\n",
    "- A more aggressive stemming algorithm compared to the Porter Stemmer, which sometimes results in very short stems."
   ]
  },
  {
   "cell_type": "code",
   "execution_count": 2,
   "id": "29effe4d-2d02-4edc-a5e7-ac444b1b3a10",
   "metadata": {},
   "outputs": [
    {
     "name": "stdout",
     "output_type": "stream",
     "text": [
      "run\n",
      "connect\n",
      "respond\n"
     ]
    }
   ],
   "source": [
    "from nltk.stem import LancasterStemmer\n",
    "lancaster_stemmer = LancasterStemmer()\n",
    "print(lancaster_stemmer.stem(\"running\"))  # Output: run\n",
    "print(lancaster_stemmer.stem(\"connected\"))  # Output: connect\n",
    "print(lancaster_stemmer.stem(\"responsiveness\"))  # Output: respond\n"
   ]
  },
  {
   "cell_type": "markdown",
   "id": "4a9d3007-9102-4b00-b164-c7f7dc4bd09d",
   "metadata": {},
   "source": [
    "#### Snowball Stemmer:\n",
    "- Also known as the \"Porter2\" stemmer, it is an improvement over the original Porter Stemmer.\n",
    "- It supports multiple languages and is considered more consistent and efficient.\n"
   ]
  },
  {
   "cell_type": "code",
   "execution_count": 3,
   "id": "3f976351-9aad-41ff-b84c-44ac58a4ca84",
   "metadata": {},
   "outputs": [
    {
     "name": "stdout",
     "output_type": "stream",
     "text": [
      "run\n",
      "connect\n"
     ]
    }
   ],
   "source": [
    "from nltk.stem import SnowballStemmer\n",
    "snowball_stemmer = SnowballStemmer(\"english\")\n",
    "print(snowball_stemmer.stem(\"running\"))  # Output: run\n",
    "print(snowball_stemmer.stem(\"connected\"))  # Output: connect\n"
   ]
  },
  {
   "cell_type": "markdown",
   "id": "1ac3ea5f-2771-456e-adee-b7eddc656013",
   "metadata": {},
   "source": [
    "#### Regex-based Stemmer:\n",
    "- A simple approach where regular expressions are used to manually define stemming rules."
   ]
  },
  {
   "cell_type": "code",
   "execution_count": 4,
   "id": "f92e9520-d587-4a44-b1ef-83579f4aed94",
   "metadata": {},
   "outputs": [
    {
     "name": "stdout",
     "output_type": "stream",
     "text": [
      "runn\n",
      "connect\n"
     ]
    }
   ],
   "source": [
    "import re\n",
    "def simple_stemmer(word):\n",
    "    return re.sub(r'(ing|ed|s)$', '', word)\n",
    "\n",
    "print(simple_stemmer(\"running\"))  # Output: runn\n",
    "print(simple_stemmer(\"connected\"))  # Output: connect\n"
   ]
  },
  {
   "cell_type": "markdown",
   "id": "d96148b1-d2c0-4226-9271-c0e7682be412",
   "metadata": {},
   "source": [
    "#### Customized Stemmer:\n",
    "- In some cases, a custom stemmer may be developed to handle specific stemming needs, especially when working with domain-specific texts."
   ]
  },
  {
   "cell_type": "code",
   "execution_count": 5,
   "id": "b5d1e882-2822-47e2-84ce-5ec8ce31c46c",
   "metadata": {},
   "outputs": [
    {
     "name": "stdout",
     "output_type": "stream",
     "text": [
      "happi\n",
      "run\n"
     ]
    }
   ],
   "source": [
    "from nltk.stem import PorterStemmer\n",
    "\n",
    "class CustomStemmer(PorterStemmer):\n",
    "    def stem(self, word):\n",
    "        if word.endswith('ness'):\n",
    "            return word[:-4]\n",
    "        return super().stem(word)\n",
    "\n",
    "custom_stemmer = CustomStemmer()\n",
    "print(custom_stemmer.stem(\"happiness\"))  # Output: happy\n",
    "print(custom_stemmer.stem(\"running\"))  # Output: run\n"
   ]
  },
  {
   "cell_type": "markdown",
   "id": "b4594285-dc5f-43e7-9637-46f38d11d25d",
   "metadata": {},
   "source": [
    "## Use Cases and Considerations\n",
    "\n",
    "#### *Search Engines:* \n",
    "- Stemming helps in improving search results by matching different forms of a word to the same stem.\n",
    "#### *Text Classification:* \n",
    "- Simplifies feature extraction by reducing the vocabulary size, leading to more efficient algorithms.\n",
    "\n",
    "### *Limitations:* \n",
    "- Stemming can sometimes produce non-existent words (e.g., \"studies\" to \"studi\") and may not handle irregular forms well. In some cases, lemmatization, which is more sophisticated, might be preferred."
   ]
  },
  {
   "cell_type": "code",
   "execution_count": null,
   "id": "545d8276-96ea-4c56-af0d-ab36bb9136dd",
   "metadata": {},
   "outputs": [],
   "source": []
  }
 ],
 "metadata": {
  "kernelspec": {
   "display_name": "Python 3 (ipykernel)",
   "language": "python",
   "name": "python3"
  },
  "language_info": {
   "codemirror_mode": {
    "name": "ipython",
    "version": 3
   },
   "file_extension": ".py",
   "mimetype": "text/x-python",
   "name": "python",
   "nbconvert_exporter": "python",
   "pygments_lexer": "ipython3",
   "version": "3.11.7"
  }
 },
 "nbformat": 4,
 "nbformat_minor": 5
}
