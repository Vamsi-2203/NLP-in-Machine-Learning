{
 "cells": [
  {
   "cell_type": "markdown",
   "id": "b1a1876d-c5b1-4a2f-9f37-be62aaba3547",
   "metadata": {},
   "source": [
    "# Lemmatization\n",
    "- Lemmatization is a process in Natural Language Processing (NLP) that reduces words to their base or dictionary form, known as the \"lemma.\"\n",
    "- Unlike stemming, which often simply cuts off prefixes or suffixes, lemmatization considers the context and converts words to their meaningful base forms based on their parts of speech."
   ]
  },
  {
   "cell_type": "markdown",
   "id": "22eea896-d2ca-4f13-abf1-c19ab32a46eb",
   "metadata": {},
   "source": [
    "### Key Differences Between Lemmatization and Stemming\n",
    "**Stemming:** Reduces words to their root by removing suffixes, often leading to non-existent or partial words.\n",
    "- Example: \"running\" → \"run\", \"better\" → \"bet\"\n",
    "  \n",
    "**Lemmatization:** Reduces words to their dictionary form by considering the word’s meaning and context.\n",
    "- Example: \"running\" → \"run\", \"better\" → \"good\""
   ]
  },
  {
   "cell_type": "markdown",
   "id": "fd5d8bf2-2d84-429a-b31e-83ce227d1bc8",
   "metadata": {},
   "source": [
    "### Why Lemmatization?\n",
    "- Lemmatization is more accurate than stemming because it considers the context of the word and returns a proper word that exists in the language.\n",
    "- For example, while stemming would reduce \"better\" to \"bet,\" lemmatization correctly identifies that the lemma for \"better\" is \"good.\""
   ]
  },
  {
   "cell_type": "markdown",
   "id": "18910343-4146-42ce-9c83-2185dea6e239",
   "metadata": {},
   "source": [
    "### How Lemmatization Works\n",
    "- Lemmatization relies on a dictionary (or a similar linguistic resource) to look up the correct lemma of a word.\n",
    "- It typically involves:\n",
    "\n",
    "1 **Part-of-Speech Tagging:** Determining the grammatical category (noun, verb, adjective, etc.) of a word to find its appropriate lemma.\n",
    "\n",
    "2 **Mapping to the Base Form:** Using linguistic rules and a dictionary to map the word to its lemma."
   ]
  },
  {
   "cell_type": "markdown",
   "id": "2b33a882-eff6-41b5-a55b-da717f16f843",
   "metadata": {},
   "source": [
    "## Types of Lemmatization with Examples\n",
    "\n",
    "#### WordNet Lemmatizer (in NLTK):\n",
    "- One of the most commonly used lemmatizers, based on the WordNet lexical database."
   ]
  },
  {
   "cell_type": "code",
   "execution_count": 3,
   "id": "bd41cefe-d5f5-4a1a-a1ef-fbbd6b921e77",
   "metadata": {},
   "outputs": [
    {
     "name": "stdout",
     "output_type": "stream",
     "text": [
      "run\n",
      "good\n",
      "goose\n"
     ]
    }
   ],
   "source": [
    "from nltk.stem import WordNetLemmatizer\n",
    "from nltk.corpus import wordnet\n",
    "\n",
    "lemmatizer = WordNetLemmatizer()\n",
    "print(lemmatizer.lemmatize(\"running\", pos=\"v\"))  # Output: run\n",
    "print(lemmatizer.lemmatize(\"better\", pos=\"a\"))  # Output: good\n",
    "print(lemmatizer.lemmatize(\"geese\", pos=\"n\"))  # Output: goose\n"
   ]
  },
  {
   "cell_type": "markdown",
   "id": "02b1c4ae-df4b-4e76-8f73-b23b5db90edf",
   "metadata": {},
   "source": [
    "#### Custom Lemmatizer:\n",
    "- Sometimes, a custom lemmatizer is created for specific applications, using predefined rules and dictionaries."
   ]
  },
  {
   "cell_type": "code",
   "execution_count": 4,
   "id": "0ad892ed-04f7-4002-9187-026d146521f3",
   "metadata": {},
   "outputs": [
    {
     "name": "stdout",
     "output_type": "stream",
     "text": [
      "child\n",
      "mouse\n"
     ]
    }
   ],
   "source": [
    "def custom_lemmatizer(word, pos):\n",
    "    lemma_dict = {\n",
    "        'children': 'child',\n",
    "        'mice': 'mouse',\n",
    "        'feet': 'foot'\n",
    "    }\n",
    "    return lemma_dict.get(word, word)\n",
    "\n",
    "print(custom_lemmatizer(\"children\", pos=\"n\"))  # Output: child\n",
    "print(custom_lemmatizer(\"mice\", pos=\"n\"))  # Output: mouse\n"
   ]
  },
  {
   "cell_type": "markdown",
   "id": "f36905a7-1ad4-4f53-984f-ee8ffca1a3c6",
   "metadata": {},
   "source": [
    "## Use Cases and Considerations\n",
    "\n",
    "**Information Retrieval:** Lemmatization helps in improving search accuracy by matching various forms of a word to its base form.\n",
    "\n",
    "**Text Analysis:** Provides a cleaner and more accurate representation of the text, making it useful for tasks like sentiment analysis, text classification, and machine translation.\n",
    "\n",
    "\n",
    "#### Limitations: \n",
    "- Lemmatization is computationally more expensive than stemming since it requires context and a look-up in a dictionary."
   ]
  },
  {
   "cell_type": "code",
   "execution_count": null,
   "id": "2e251ba5-3be9-4505-aa1c-078a99ea4240",
   "metadata": {},
   "outputs": [],
   "source": []
  }
 ],
 "metadata": {
  "kernelspec": {
   "display_name": "Python 3 (ipykernel)",
   "language": "python",
   "name": "python3"
  },
  "language_info": {
   "codemirror_mode": {
    "name": "ipython",
    "version": 3
   },
   "file_extension": ".py",
   "mimetype": "text/x-python",
   "name": "python",
   "nbconvert_exporter": "python",
   "pygments_lexer": "ipython3",
   "version": "3.11.7"
  }
 },
 "nbformat": 4,
 "nbformat_minor": 5
}
