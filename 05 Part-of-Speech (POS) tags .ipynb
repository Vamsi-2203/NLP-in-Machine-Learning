{
 "cells": [
  {
   "cell_type": "markdown",
   "id": "2dd0d17d-0bf4-430d-96cb-7690032ef634",
   "metadata": {},
   "source": [
    "# Part-of-Speech (POS) tags"
   ]
  },
  {
   "cell_type": "markdown",
   "id": "4ce19d33-9ba8-4b4f-8798-55a9a3a3fa5a",
   "metadata": {},
   "source": [
    "- Parts of Speech (POS) refer to the grammatical categories assigned to words in a sentence based on their roles and functions.\n",
    "- Understanding POS helps in analyzing sentence structure, meaning, and relationships between words.\n",
    "-  Different tagging schemes and standards can use various tags, but here are some common POS tags and their types based on popular tagging systems like the Penn Treebank and Universal Dependencies:"
   ]
  },
  {
   "cell_type": "markdown",
   "id": "cbf3c295-ea34-4662-830d-0c50cd176434",
   "metadata": {},
   "source": [
    "## 1. Penn Treebank POS Tags\n",
    "The Penn Treebank POS tag set is widely used in NLP, especially for English. Here are some of the key tags:"
   ]
  },
  {
   "cell_type": "raw",
   "id": "a6fa3fa8-c44e-4ed0-a826-bc808572486f",
   "metadata": {},
   "source": [
    "#### Nouns:\n",
    "- NN: Singular Noun (e.g., \"cat\")\n",
    "- NNS: Plural Noun (e.g., \"cats\")\n",
    "- NNP: Proper Singular Noun (e.g., \"John\")\n",
    "- NNPS: Proper Plural Noun (e.g., \"Americans\")\n",
    "\n",
    "#### Pronouns:\n",
    "\n",
    "- PRP: Personal Pronoun (e.g., \"he\")\n",
    "- PRP$: Possessive Pronoun (e.g., \"his\")\n",
    "- WP: Wh-pronoun (e.g., \"who\")\n",
    "- WP$: Possessive Wh-pronoun (e.g., \"whose\")\n",
    "\n",
    "#### Verbs:\n",
    "\n",
    "- VB: Base Form (e.g., \"run\")\n",
    "- VBD: Past Tense (e.g., \"ran\")\n",
    "- VBG: Gerund or Present Participle (e.g., \"running\")\n",
    "- VBN: Past Participle (e.g., \"run\")\n",
    "- VBP: Non-3rd Person Singular Present (e.g., \"run\")\n",
    "- VBZ: 3rd Person Singular Present (e.g., \"runs\")"
   ]
  },
  {
   "cell_type": "raw",
   "id": "774f64e3-36af-47e8-9005-759813aab659",
   "metadata": {},
   "source": [
    "#### Adjectives:\n",
    "\n",
    "- JJ: Adjective (e.g., \"quick\")\n",
    "- JJR: Comparative Adjective (e.g., \"quicker\")\n",
    "- JJS: Superlative Adjective (e.g., \"quickest\")\n",
    "\n",
    "#### Adverbs:\n",
    "\n",
    "- RB: Adverb (e.g., \"quickly\")\n",
    "- RBR: Comparative Adverb (e.g., \"more quickly\")\n",
    "- RBS: Superlative Adverb (e.g., \"most quickly\")\n",
    "\n",
    "#### Prepositions:\n",
    "\n",
    "- IN: Preposition (e.g., \"in\")\n",
    "\n",
    "#### Conjunctions:\n",
    "\n",
    "- CC: Coordinating Conjunction (e.g., \"and\")\n",
    "- IN: Subordinating Conjunction (e.g., \"although\")\n",
    "\n",
    "#### Determiners:\n",
    "\n",
    "- DT: Determiner (e.g., \"the\")\n",
    "- WDT: Wh-determiner (e.g., \"which\")\n",
    "\n",
    "#### Auxiliaries and Modals:\n",
    "\n",
    "MD: Modal Verb (e.g., \"can\")\n",
    "\n",
    "#### Others:\n",
    "\n",
    "- UH: Interjection (e.g., \"wow\")\n",
    "- TO: Infinitive Marker (e.g., \"to\")\n",
    "- PDT: Predeterminer (e.g., \"all\")\n",
    "- RBS: Superlative Adverb (e.g., \"most quickly\")"
   ]
  },
  {
   "cell_type": "markdown",
   "id": "0b594016-a477-46b7-b459-c8bf10cc5273",
   "metadata": {},
   "source": [
    "## Universal Dependencies POS Tags\n",
    "The Universal Dependencies (UD) project provides a set of universal POS tags that are consistent across different languages:"
   ]
  },
  {
   "cell_type": "raw",
   "id": "0d4c95c9-5925-4514-ab7e-f02c2ebe893a",
   "metadata": {},
   "source": [
    "NOUN: Noun (e.g., \"dog\")\n",
    "PROPN: Proper Noun (e.g., \"John\")\n",
    "PRON: Pronoun (e.g., \"he\")\n",
    "VERB: Verb (e.g., \"run\")\n",
    "ADJ: Adjective (e.g., \"quick\")\n",
    "ADV: Adverb (e.g., \"quickly\")\n",
    "ADP: Adposition (Preposition or Postposition) (e.g., \"in\")\n",
    "AUX: Auxiliary Verb (e.g., \"is\")\n",
    "CCONJ: Coordinating Conjunction (e.g., \"and\")\n",
    "SCONJ: Subordinating Conjunction (e.g., \"because\")\n",
    "DET: Determiner (e.g., \"the\")\n",
    "NUM: Numeral (e.g., \"one\")\n",
    "PART: Particle (e.g., \"not\")\n",
    "INTJ: Interjection (e.g., \"wow\")\n",
    "PUNCT: Punctuation (e.g., \".\")\n",
    "SYM: Symbol (e.g., \"$\")\n",
    "X: Other (e.g., \"foo\" in programming code)"
   ]
  },
  {
   "cell_type": "code",
   "execution_count": 1,
   "id": "6ed7a269-6b88-4bb5-a8dc-ad7ecf6fcace",
   "metadata": {},
   "outputs": [
    {
     "name": "stdout",
     "output_type": "stream",
     "text": [
      "[('The', 'DT'), ('quick', 'JJ'), ('brown', 'NN'), ('fox', 'NN'), ('jumps', 'VBZ'), ('over', 'IN'), ('the', 'DT'), ('lazy', 'JJ'), ('dog', 'NN'), ('.', '.')]\n"
     ]
    }
   ],
   "source": [
    "import nltk\n",
    "from nltk.tokenize import word_tokenize\n",
    "from nltk import pos_tag\n",
    "\n",
    "# Sample text\n",
    "text = \"The quick brown fox jumps over the lazy dog.\"\n",
    "\n",
    "# Tokenize the text\n",
    "words = word_tokenize(text)\n",
    "\n",
    "# POS tagging\n",
    "tagged_words = pos_tag(words)\n",
    "\n",
    "print(tagged_words)\n"
   ]
  },
  {
   "cell_type": "code",
   "execution_count": null,
   "id": "3266c591-51a6-4c4c-84ac-c941192418db",
   "metadata": {},
   "outputs": [],
   "source": []
  }
 ],
 "metadata": {
  "kernelspec": {
   "display_name": "Python 3 (ipykernel)",
   "language": "python",
   "name": "python3"
  },
  "language_info": {
   "codemirror_mode": {
    "name": "ipython",
    "version": 3
   },
   "file_extension": ".py",
   "mimetype": "text/x-python",
   "name": "python",
   "nbconvert_exporter": "python",
   "pygments_lexer": "ipython3",
   "version": "3.11.7"
  }
 },
 "nbformat": 4,
 "nbformat_minor": 5
}
