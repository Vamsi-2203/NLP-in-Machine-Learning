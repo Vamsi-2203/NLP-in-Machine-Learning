{
 "cells": [
  {
   "cell_type": "markdown",
   "id": "a14f0087-2159-4ac7-891d-a366813f4367",
   "metadata": {},
   "source": [
    "# Name Entity Recognition"
   ]
  },
  {
   "cell_type": "markdown",
   "id": "264fd900-6156-4947-b38e-203cf2d03f5a",
   "metadata": {},
   "source": [
    "- Named Entity Recognition (NER) is a key task in NLP that involves identifying and classifying named entities in text into predefined categories such as people, organizations, locations, dates, and more.\n",
    "- The goal is to extract meaningful entities that are relevant for understanding the content or for further processing."
   ]
  },
  {
   "cell_type": "markdown",
   "id": "a13c8395-193c-4554-b2e7-6e6f2a6c0690",
   "metadata": {},
   "source": [
    "#### Common Named Entity Categories"
   ]
  },
  {
   "cell_type": "raw",
   "id": "ac7a464a-0aaa-49bd-84fb-80e2685da1a1",
   "metadata": {},
   "source": [
    "\n",
    "Person (PERSON): Names of people (e.g., \"Barack Obama\").\n",
    "Organization (ORG): Names of companies, institutions, or organizations (e.g., \"Google,\" \"United Nations\").\n",
    "Location (LOC): Geographical locations (e.g., \"New York,\" \"Mount Everest\").\n",
    "Date (DATE): Dates or time expressions (e.g., \"January 1, 2024,\" \"next Friday\").\n",
    "Time (TIME): Specific times of day (e.g., \"3 PM\").\n",
    "Money (MONEY): Monetary values (e.g., \"$100,\" \"50 euros\").\n",
    "Percent (PERCENT): Percentages (e.g., \"10%\").\n",
    "Miscellaneous (MISC): Other types of entities not covered by the above categories."
   ]
  },
  {
   "cell_type": "code",
   "execution_count": 1,
   "id": "5bb4167b-8c7d-422d-9fe2-062a09af37e1",
   "metadata": {},
   "outputs": [
    {
     "name": "stderr",
     "output_type": "stream",
     "text": [
      "[nltk_data] Downloading package punkt to\n",
      "[nltk_data]     C:\\Users\\USER\\AppData\\Roaming\\nltk_data...\n",
      "[nltk_data]   Package punkt is already up-to-date!\n",
      "[nltk_data] Downloading package maxent_ne_chunker to\n",
      "[nltk_data]     C:\\Users\\USER\\AppData\\Roaming\\nltk_data...\n",
      "[nltk_data]   Unzipping chunkers\\maxent_ne_chunker.zip.\n",
      "[nltk_data] Downloading package words to\n",
      "[nltk_data]     C:\\Users\\USER\\AppData\\Roaming\\nltk_data...\n",
      "[nltk_data]   Unzipping corpora\\words.zip.\n"
     ]
    },
    {
     "name": "stdout",
     "output_type": "stream",
     "text": [
      "(S\n",
      "  (PERSON Barack/NNP)\n",
      "  (PERSON Obama/NNP)\n",
      "  was/VBD\n",
      "  the/DT\n",
      "  44th/JJ\n",
      "  President/NNP\n",
      "  of/IN\n",
      "  the/DT\n",
      "  (GPE United/NNP States/NNPS)\n",
      "  ./.\n",
      "  He/PRP\n",
      "  was/VBD\n",
      "  born/VBN\n",
      "  in/IN\n",
      "  (GPE Honolulu/NNP)\n",
      "  ./.)\n"
     ]
    }
   ],
   "source": [
    "import nltk\n",
    "from nltk.tokenize import word_tokenize\n",
    "from nltk import pos_tag, ne_chunk\n",
    "\n",
    "# Download required NLTK data\n",
    "nltk.download('punkt')\n",
    "nltk.download('maxent_ne_chunker')\n",
    "nltk.download('words')\n",
    "\n",
    "# Sample text\n",
    "text = \"Barack Obama was the 44th President of the United States. He was born in Honolulu.\"\n",
    "\n",
    "# Tokenize and POS tagging\n",
    "words = word_tokenize(text)\n",
    "pos_tags = pos_tag(words)\n",
    "\n",
    "# Named Entity Recognition\n",
    "named_entities = ne_chunk(pos_tags)\n",
    "\n",
    "# Print the named entities\n",
    "print(named_entities)\n"
   ]
  },
  {
   "cell_type": "code",
   "execution_count": null,
   "id": "e8afe63c-f18d-4994-8b31-7fac870e38d8",
   "metadata": {},
   "outputs": [],
   "source": []
  }
 ],
 "metadata": {
  "kernelspec": {
   "display_name": "Python 3 (ipykernel)",
   "language": "python",
   "name": "python3"
  },
  "language_info": {
   "codemirror_mode": {
    "name": "ipython",
    "version": 3
   },
   "file_extension": ".py",
   "mimetype": "text/x-python",
   "name": "python",
   "nbconvert_exporter": "python",
   "pygments_lexer": "ipython3",
   "version": "3.11.7"
  }
 },
 "nbformat": 4,
 "nbformat_minor": 5
}
