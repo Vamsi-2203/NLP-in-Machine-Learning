{
 "cells": [
  {
   "cell_type": "markdown",
   "id": "bcadbd2e-b7e5-470e-aa1b-7ea245f1bbe6",
   "metadata": {},
   "source": [
    "# N-grams\n"
   ]
  },
  {
   "cell_type": "markdown",
   "id": "c04d90dd-76a1-47c3-ad50-ecc1e623f3c5",
   "metadata": {},
   "source": [
    "- An N-gram in Natural Language Processing (NLP) is a contiguous sequence of n items from a given text or speech.\n",
    "- These items can be characters, words, or even phonemes depending on the context.\n",
    "- N-grams are used to analyze the structure of a text and to predict the likelihood of a sequence occurring in language models."
   ]
  },
  {
   "cell_type": "markdown",
   "id": "d4c9f64a-579a-4c49-8f00-0934d98c548b",
   "metadata": {},
   "source": [
    "## Types of N-grams\n",
    "- **Unigram (1-gram):** A single item from the sequence (e.g., a word or a character). Example: \"Hello\", \"NLP\", \"World\".\n",
    "- **Bigram (2-gram):** A sequence of two contiguous items. Example: \"Hello NLP\", \"NLP World\".\n",
    "- **Trigram (3-gram):** A sequence of three contiguous items. Example: \"Hello NLP World\"."
   ]
  },
  {
   "cell_type": "markdown",
   "id": "adf17902-9abd-4b22-9d6f-69a662bda408",
   "metadata": {},
   "source": [
    "### Applications of N-grams\n",
    "- **Text Prediction:** N-grams are used in predictive text systems, where the model predicts the next word in a sequence based on the previous words. For instance, in mobile typing suggestions.\n",
    "\n",
    "- **Language Modeling:** N-grams help in building language models that estimate the probability of a sequence of words. These models are useful in tasks like speech recognition, machine translation, and text generation.\n",
    "\n",
    "- **Text Classification:** In sentiment analysis or spam detection, N-grams can be used as features to classify text into different categories.\n",
    "\n",
    "- **Machine Translation:** N-grams help in understanding context by analyzing word sequences, aiding in more accurate translations.\n",
    "\n",
    "- **Spell Checking:** N-grams can be used to identify and correct spelling errors by comparing sequences in a text against a known corpus.\n",
    "\n",
    "### Advantages of N-grams\n",
    "- **Simplicity:** N-grams are straightforward to implement and understand.\n",
    " \n",
    "- **Efficiency:** They can efficiently capture the local context of words or characters in a sequence.\n",
    "\n",
    "### Limitations of N-grams\n",
    "\n",
    "- **Context Limitation:** N-grams consider only the fixed window of n items, potentially missing broader contextual meaning.\n",
    "\n",
    "- **Data Sparsity:** Higher-order N-grams (like trigrams or four-grams) require more data to be effective, as the number of possible sequences increases exponentially."
   ]
  },
  {
   "cell_type": "markdown",
   "id": "8ade50cf-9a5c-4913-8617-c117e0890c7a",
   "metadata": {},
   "source": [
    "# Implementation"
   ]
  },
  {
   "cell_type": "code",
   "execution_count": 1,
   "id": "29ca200a-1626-4e17-9bec-2dc66e87fee2",
   "metadata": {},
   "outputs": [
    {
     "name": "stdout",
     "output_type": "stream",
     "text": [
      "Unigrams: [('I',), ('love',), ('natural',), ('language',), ('processing',), ('.',)]\n",
      "Unigram Frequency: Counter({('I',): 1, ('love',): 1, ('natural',): 1, ('language',): 1, ('processing',): 1, ('.',): 1})\n",
      "Bigrams: [('I', 'love'), ('love', 'natural'), ('natural', 'language'), ('language', 'processing'), ('processing', '.')]\n",
      "Bigram Frequency: Counter({('I', 'love'): 1, ('love', 'natural'): 1, ('natural', 'language'): 1, ('language', 'processing'): 1, ('processing', '.'): 1})\n",
      "Trigrams: [('I', 'love', 'natural'), ('love', 'natural', 'language'), ('natural', 'language', 'processing'), ('language', 'processing', '.')]\n",
      "Trigram Frequency: Counter({('I', 'love', 'natural'): 1, ('love', 'natural', 'language'): 1, ('natural', 'language', 'processing'): 1, ('language', 'processing', '.'): 1})\n"
     ]
    },
    {
     "name": "stderr",
     "output_type": "stream",
     "text": [
      "[nltk_data] Downloading package punkt to\n",
      "[nltk_data]     C:\\Users\\USER\\AppData\\Roaming\\nltk_data...\n",
      "[nltk_data]   Package punkt is already up-to-date!\n"
     ]
    }
   ],
   "source": [
    "\n",
    "\n",
    "\n",
    "\n",
    "\n",
    "\n",
    "\n",
    "\n",
    "\n",
    "\n"
   ]
  },
  {
   "cell_type": "code",
   "execution_count": 2,
   "id": "e8d40b95-b129-4fe8-92f4-8fcd2aa4c120",
   "metadata": {},
   "outputs": [
    {
     "name": "stderr",
     "output_type": "stream",
     "text": [
      "[nltk_data] Downloading package punkt to\n",
      "[nltk_data]     C:\\Users\\USER\\AppData\\Roaming\\nltk_data...\n",
      "[nltk_data]   Package punkt is already up-to-date!\n"
     ]
    },
    {
     "data": {
      "text/plain": [
       "True"
      ]
     },
     "execution_count": 2,
     "metadata": {},
     "output_type": "execute_result"
    }
   ],
   "source": [
    "import nltk\n",
    "from nltk import ngrams\n",
    "from collections import Counter\n",
    "\n",
    "# Download the required NLTK data files\n",
    "nltk.download('punkt')"
   ]
  },
  {
   "cell_type": "code",
   "execution_count": 3,
   "id": "e5acf0f4-e8c1-4a07-b20e-250908a7255e",
   "metadata": {},
   "outputs": [],
   "source": [
    "# Sample text\n",
    "text = \"N-grams are used to analyze the structure of a text and to predict the likelihood of a sequence occurring in language models.\""
   ]
  },
  {
   "cell_type": "code",
   "execution_count": 6,
   "id": "3da58227-d094-4306-9b74-955c09294d12",
   "metadata": {},
   "outputs": [
    {
     "name": "stdout",
     "output_type": "stream",
     "text": [
      "['N-grams', 'are', 'used', 'to', 'analyze', 'the', 'structure', 'of', 'a', 'text', 'and', 'to', 'predict', 'the', 'likelihood', 'of', 'a', 'sequence', 'occurring', 'in', 'language', 'models', '.']\n"
     ]
    }
   ],
   "source": [
    "\n",
    "# Tokenize the text into words\n",
    "tokens = nltk.word_tokenize(text)\n",
    "print(tokens)\n"
   ]
  },
  {
   "cell_type": "code",
   "execution_count": 7,
   "id": "bac23fff-b2fa-48c8-ba3f-60ae25239d68",
   "metadata": {},
   "outputs": [],
   "source": [
    "# Generate unigrams, bigrams, and trigrams\n",
    "unigrams = list(ngrams(tokens, 1))\n",
    "bigrams = list(ngrams(tokens, 2))\n",
    "trigrams = list(ngrams(tokens, 3))"
   ]
  },
  {
   "cell_type": "code",
   "execution_count": 8,
   "id": "af5b3d6b-e33c-4275-ae6a-bd6ac49bb087",
   "metadata": {},
   "outputs": [],
   "source": [
    "# Count the frequency of each N-gram\n",
    "unigram_freq = Counter(unigrams)\n",
    "bigram_freq = Counter(bigrams)\n",
    "trigram_freq = Counter(trigrams)"
   ]
  },
  {
   "cell_type": "code",
   "execution_count": 10,
   "id": "f1f5a702-635a-4c37-9833-83330bc4f678",
   "metadata": {},
   "outputs": [
    {
     "name": "stdout",
     "output_type": "stream",
     "text": [
      "Unigrams: [('N-grams',), ('are',), ('used',), ('to',), ('analyze',), ('the',), ('structure',), ('of',), ('a',), ('text',), ('and',), ('to',), ('predict',), ('the',), ('likelihood',), ('of',), ('a',), ('sequence',), ('occurring',), ('in',), ('language',), ('models',), ('.',)]\n"
     ]
    }
   ],
   "source": [
    "# Print the results\n",
    "print(\"Unigrams:\", unigrams)\n"
   ]
  },
  {
   "cell_type": "code",
   "execution_count": 11,
   "id": "a936ac27-24ed-49bc-819b-ae94e2b354da",
   "metadata": {},
   "outputs": [
    {
     "name": "stdout",
     "output_type": "stream",
     "text": [
      "Unigram Frequency: Counter({('to',): 2, ('the',): 2, ('of',): 2, ('a',): 2, ('N-grams',): 1, ('are',): 1, ('used',): 1, ('analyze',): 1, ('structure',): 1, ('text',): 1, ('and',): 1, ('predict',): 1, ('likelihood',): 1, ('sequence',): 1, ('occurring',): 1, ('in',): 1, ('language',): 1, ('models',): 1, ('.',): 1})\n"
     ]
    }
   ],
   "source": [
    "print(\"Unigram Frequency:\", unigram_freq)\n"
   ]
  },
  {
   "cell_type": "code",
   "execution_count": 12,
   "id": "cc662d91-1661-407a-ace2-e06d74674557",
   "metadata": {},
   "outputs": [
    {
     "name": "stdout",
     "output_type": "stream",
     "text": [
      "Bigrams: [('N-grams', 'are'), ('are', 'used'), ('used', 'to'), ('to', 'analyze'), ('analyze', 'the'), ('the', 'structure'), ('structure', 'of'), ('of', 'a'), ('a', 'text'), ('text', 'and'), ('and', 'to'), ('to', 'predict'), ('predict', 'the'), ('the', 'likelihood'), ('likelihood', 'of'), ('of', 'a'), ('a', 'sequence'), ('sequence', 'occurring'), ('occurring', 'in'), ('in', 'language'), ('language', 'models'), ('models', '.')]\n"
     ]
    }
   ],
   "source": [
    "print(\"Bigrams:\", bigrams)\n"
   ]
  },
  {
   "cell_type": "code",
   "execution_count": 13,
   "id": "b75ce287-dbda-4188-8e32-33bfcf1680fe",
   "metadata": {},
   "outputs": [
    {
     "name": "stdout",
     "output_type": "stream",
     "text": [
      "Bigram Frequency: Counter({('of', 'a'): 2, ('N-grams', 'are'): 1, ('are', 'used'): 1, ('used', 'to'): 1, ('to', 'analyze'): 1, ('analyze', 'the'): 1, ('the', 'structure'): 1, ('structure', 'of'): 1, ('a', 'text'): 1, ('text', 'and'): 1, ('and', 'to'): 1, ('to', 'predict'): 1, ('predict', 'the'): 1, ('the', 'likelihood'): 1, ('likelihood', 'of'): 1, ('a', 'sequence'): 1, ('sequence', 'occurring'): 1, ('occurring', 'in'): 1, ('in', 'language'): 1, ('language', 'models'): 1, ('models', '.'): 1})\n"
     ]
    }
   ],
   "source": [
    "print(\"Bigram Frequency:\", bigram_freq)\n"
   ]
  },
  {
   "cell_type": "code",
   "execution_count": 14,
   "id": "89f8b3de-3235-4eff-ba25-3aa0eae1ddb8",
   "metadata": {},
   "outputs": [
    {
     "name": "stdout",
     "output_type": "stream",
     "text": [
      "Trigrams: [('N-grams', 'are', 'used'), ('are', 'used', 'to'), ('used', 'to', 'analyze'), ('to', 'analyze', 'the'), ('analyze', 'the', 'structure'), ('the', 'structure', 'of'), ('structure', 'of', 'a'), ('of', 'a', 'text'), ('a', 'text', 'and'), ('text', 'and', 'to'), ('and', 'to', 'predict'), ('to', 'predict', 'the'), ('predict', 'the', 'likelihood'), ('the', 'likelihood', 'of'), ('likelihood', 'of', 'a'), ('of', 'a', 'sequence'), ('a', 'sequence', 'occurring'), ('sequence', 'occurring', 'in'), ('occurring', 'in', 'language'), ('in', 'language', 'models'), ('language', 'models', '.')]\n"
     ]
    }
   ],
   "source": [
    "print(\"Trigrams:\", trigrams)\n"
   ]
  },
  {
   "cell_type": "code",
   "execution_count": 15,
   "id": "eee2f7c3-9a01-42d1-a3a6-9b23ee674201",
   "metadata": {},
   "outputs": [
    {
     "name": "stdout",
     "output_type": "stream",
     "text": [
      "Trigram Frequency: Counter({('N-grams', 'are', 'used'): 1, ('are', 'used', 'to'): 1, ('used', 'to', 'analyze'): 1, ('to', 'analyze', 'the'): 1, ('analyze', 'the', 'structure'): 1, ('the', 'structure', 'of'): 1, ('structure', 'of', 'a'): 1, ('of', 'a', 'text'): 1, ('a', 'text', 'and'): 1, ('text', 'and', 'to'): 1, ('and', 'to', 'predict'): 1, ('to', 'predict', 'the'): 1, ('predict', 'the', 'likelihood'): 1, ('the', 'likelihood', 'of'): 1, ('likelihood', 'of', 'a'): 1, ('of', 'a', 'sequence'): 1, ('a', 'sequence', 'occurring'): 1, ('sequence', 'occurring', 'in'): 1, ('occurring', 'in', 'language'): 1, ('in', 'language', 'models'): 1, ('language', 'models', '.'): 1})\n"
     ]
    }
   ],
   "source": [
    "print(\"Trigram Frequency:\", trigram_freq)"
   ]
  },
  {
   "cell_type": "code",
   "execution_count": null,
   "id": "8772d480-ee35-415a-b68d-a2c4b7abc3a8",
   "metadata": {},
   "outputs": [],
   "source": []
  }
 ],
 "metadata": {
  "kernelspec": {
   "display_name": "Python 3 (ipykernel)",
   "language": "python",
   "name": "python3"
  },
  "language_info": {
   "codemirror_mode": {
    "name": "ipython",
    "version": 3
   },
   "file_extension": ".py",
   "mimetype": "text/x-python",
   "name": "python",
   "nbconvert_exporter": "python",
   "pygments_lexer": "ipython3",
   "version": "3.11.7"
  }
 },
 "nbformat": 4,
 "nbformat_minor": 5
}
